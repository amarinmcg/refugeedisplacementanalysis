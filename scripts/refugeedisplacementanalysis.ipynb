{
 "cells": [
  {
   "cell_type": "code",
   "execution_count": 3,
   "id": "3f11e206",
   "metadata": {},
   "outputs": [
    {
     "name": "stdout",
     "output_type": "stream",
     "text": [
      "Requirement already satisfied: pandas in /opt/anaconda3/lib/python3.11/site-packages (2.1.4)\n",
      "Requirement already satisfied: numpy in /opt/anaconda3/lib/python3.11/site-packages (1.26.4)\n",
      "Requirement already satisfied: matplotlib in /opt/anaconda3/lib/python3.11/site-packages (3.9.2)\n",
      "Requirement already satisfied: scikit-learn in /opt/anaconda3/lib/python3.11/site-packages (1.2.2)\n",
      "Requirement already satisfied: plotly in /opt/anaconda3/lib/python3.11/site-packages (5.9.0)\n",
      "Requirement already satisfied: python-dateutil>=2.8.2 in /opt/anaconda3/lib/python3.11/site-packages (from pandas) (2.8.2)\n",
      "Requirement already satisfied: pytz>=2020.1 in /opt/anaconda3/lib/python3.11/site-packages (from pandas) (2023.3.post1)\n",
      "Requirement already satisfied: tzdata>=2022.1 in /opt/anaconda3/lib/python3.11/site-packages (from pandas) (2023.3)\n",
      "Requirement already satisfied: contourpy>=1.0.1 in /opt/anaconda3/lib/python3.11/site-packages (from matplotlib) (1.2.0)\n",
      "Requirement already satisfied: cycler>=0.10 in /opt/anaconda3/lib/python3.11/site-packages (from matplotlib) (0.11.0)\n",
      "Requirement already satisfied: fonttools>=4.22.0 in /opt/anaconda3/lib/python3.11/site-packages (from matplotlib) (4.25.0)\n",
      "Requirement already satisfied: kiwisolver>=1.3.1 in /opt/anaconda3/lib/python3.11/site-packages (from matplotlib) (1.4.4)\n",
      "Requirement already satisfied: packaging>=20.0 in /opt/anaconda3/lib/python3.11/site-packages (from matplotlib) (23.1)\n",
      "Requirement already satisfied: pillow>=8 in /opt/anaconda3/lib/python3.11/site-packages (from matplotlib) (10.2.0)\n",
      "Requirement already satisfied: pyparsing>=2.3.1 in /opt/anaconda3/lib/python3.11/site-packages (from matplotlib) (3.0.9)\n",
      "Requirement already satisfied: scipy>=1.3.2 in /opt/anaconda3/lib/python3.11/site-packages (from scikit-learn) (1.11.4)\n",
      "Requirement already satisfied: joblib>=1.1.1 in /opt/anaconda3/lib/python3.11/site-packages (from scikit-learn) (1.2.0)\n",
      "Requirement already satisfied: threadpoolctl>=2.0.0 in /opt/anaconda3/lib/python3.11/site-packages (from scikit-learn) (2.2.0)\n",
      "Requirement already satisfied: tenacity>=6.2.0 in /opt/anaconda3/lib/python3.11/site-packages (from plotly) (8.2.2)\n",
      "Requirement already satisfied: six>=1.5 in /opt/anaconda3/lib/python3.11/site-packages (from python-dateutil>=2.8.2->pandas) (1.16.0)\n",
      "Note: you may need to restart the kernel to use updated packages.\n"
     ]
    }
   ],
   "source": [
    "%pip install pandas numpy matplotlib scikit-learn plotly"
   ]
  },
  {
   "cell_type": "code",
   "execution_count": 4,
   "id": "1de91454",
   "metadata": {},
   "outputs": [],
   "source": [
    "import pandas as pd\n",
    "import numpy as np\n",
    "import matplotlib as mpl\n",
    "import plotly as plt"
   ]
  },
  {
   "cell_type": "code",
   "execution_count": 5,
   "id": "961f07da",
   "metadata": {},
   "outputs": [
    {
     "name": "stderr",
     "output_type": "stream",
     "text": [
      "/var/folders/pl/1bdjf8kd3ql31wdc294128xr0000gn/T/ipykernel_17827/4252001156.py:1: DtypeWarning: Columns (0,9,10,11,12,13,14,15,16,17,18,19,20,21,22,23) have mixed types. Specify dtype option on import or set low_memory=False.\n",
      "  data = pd.read_csv('/Users/mari/Documents/GitHub/refugeedisplacementanalysis/data/demographics-and-locations-of-forcibly-displaced-and-stateless-persons-global-1.csv')\n"
     ]
    }
   ],
   "source": [
    "data = pd.read_csv('/Users/mari/Documents/GitHub/refugeedisplacementanalysis/data/demographics-and-locations-of-forcibly-displaced-and-stateless-persons-global-1.csv')"
   ]
  },
  {
   "cell_type": "code",
   "execution_count": 6,
   "id": "a0282425",
   "metadata": {},
   "outputs": [
    {
     "name": "stdout",
     "output_type": "stream",
     "text": [
      "              Year Country of Origin Code Country of Asylum Code  \\\n",
      "0       #date+year   #country+code+origin   #country+code+asylum   \n",
      "1             2001                    AFG                    AFG   \n",
      "2             2001                    AFG                    AFG   \n",
      "3             2001                    IRN                    AFG   \n",
      "4             2001                    IRQ                    AFG   \n",
      "...            ...                    ...                    ...   \n",
      "170114        2019                    UGA                    ZWE   \n",
      "170115        2019                    ZMB                    ZWE   \n",
      "170116        2019                    ZWE                    ZWE   \n",
      "170117        2019                    ZWE                    ZWE   \n",
      "170118        2019                    ZWE                    ZWE   \n",
      "\n",
      "            Country of Origin Name Country of Asylum Name  \\\n",
      "0             #country+name+origin   #country+name+asylum   \n",
      "1                      Afghanistan            Afghanistan   \n",
      "2                      Afghanistan            Afghanistan   \n",
      "3       Iran (Islamic Republic of)            Afghanistan   \n",
      "4                             Iraq            Afghanistan   \n",
      "...                            ...                    ...   \n",
      "170114                      Uganda               Zimbabwe   \n",
      "170115                      Zambia               Zimbabwe   \n",
      "170116                    Zimbabwe               Zimbabwe   \n",
      "170117                    Zimbabwe               Zimbabwe   \n",
      "170118                    Zimbabwe               Zimbabwe   \n",
      "\n",
      "                   Population Type  location  urbanRural  accommodationType  \\\n",
      "0       #indicator+population_type       NaN         NaN                NaN   \n",
      "1                              IDP       NaN         NaN                NaN   \n",
      "2                              RET       NaN         NaN                NaN   \n",
      "3                              REF       NaN         NaN                NaN   \n",
      "4                              REF       NaN         NaN                NaN   \n",
      "...                            ...       ...         ...                ...   \n",
      "170114                         REF       NaN         NaN                NaN   \n",
      "170115                         OOC       NaN         NaN                NaN   \n",
      "170116                         IDP       NaN         NaN                NaN   \n",
      "170117                         OOC       NaN         NaN                NaN   \n",
      "170118                         RET       NaN         NaN                NaN   \n",
      "\n",
      "                         Female 0-4  ...           Female Unknown  \\\n",
      "0       #affected+f+infants+age_0_4  ...  #affected+f+unknown_age   \n",
      "1                                 0  ...                        0   \n",
      "2                                 0  ...                        0   \n",
      "3                                 0  ...                        0   \n",
      "4                                 0  ...                        0   \n",
      "...                             ...  ...                      ...   \n",
      "170114                            0  ...                        0   \n",
      "170115                            0  ...                        0   \n",
      "170116                            0  ...                        0   \n",
      "170117                           10  ...                        0   \n",
      "170118                            0  ...                        0   \n",
      "\n",
      "             Female Total                     Male 0-4  \\\n",
      "0       #affected+f+total  #affected+m+infants+age_0_4   \n",
      "1                       0                            0   \n",
      "2                       0                            0   \n",
      "3                       0                            0   \n",
      "4                       5                            0   \n",
      "...                   ...                          ...   \n",
      "170114                  0                            0   \n",
      "170115                  5                            0   \n",
      "170116                  0                            0   \n",
      "170117                 85                           10   \n",
      "170118                  0                            0   \n",
      "\n",
      "                            Male 5-11                         Male 12-17  \\\n",
      "0       #affected+m+children+age_5_11  #affected+m+adolescents+age_12_17   \n",
      "1                                   0                                  0   \n",
      "2                                   0                                  0   \n",
      "3                                   0                                  0   \n",
      "4                                   0                                  0   \n",
      "...                               ...                                ...   \n",
      "170114                              0                                  0   \n",
      "170115                              0                                  0   \n",
      "170116                              0                                  0   \n",
      "170117                             21                                  5   \n",
      "170118                              0                                  0   \n",
      "\n",
      "                          Male 18-59             Male 60 or more  \\\n",
      "0       #affected+m+adults+age_18_59  #affected+m+elderly+age_60   \n",
      "1                                  0                           0   \n",
      "2                                  0                           0   \n",
      "3                                  0                           0   \n",
      "4                                  0                           0   \n",
      "...                              ...                         ...   \n",
      "170114                             8                           0   \n",
      "170115                             0                           0   \n",
      "170116                             0                           0   \n",
      "170117                             0                           0   \n",
      "170118                             0                           0   \n",
      "\n",
      "                   Male Unknown         Male Total                Total  \n",
      "0       #affected+m+unknown_age  #affected+m+total  #affected+all+total  \n",
      "1                             0                  0              1200000  \n",
      "2                             0                  0                26092  \n",
      "3                             0                  0                    0  \n",
      "4                             0                  0                    5  \n",
      "...                         ...                ...                  ...  \n",
      "170114                        0                  8                    8  \n",
      "170115                        0                  0                    5  \n",
      "170116                        0                  0               270000  \n",
      "170117                        0                 36                  121  \n",
      "170118                        0                  0                  132  \n",
      "\n",
      "[170119 rows x 24 columns]\n"
     ]
    }
   ],
   "source": [
    "print(data)"
   ]
  },
  {
   "cell_type": "code",
   "execution_count": 8,
   "id": "b8fada11",
   "metadata": {},
   "outputs": [
    {
     "name": "stdout",
     "output_type": "stream",
     "text": [
      "<class 'pandas.core.frame.DataFrame'>\n",
      "RangeIndex: 170119 entries, 0 to 170118\n",
      "Data columns (total 24 columns):\n",
      " #   Column                  Non-Null Count   Dtype  \n",
      "---  ------                  --------------   -----  \n",
      " 0   Year                    170119 non-null  object \n",
      " 1   Country of Origin Code  169998 non-null  object \n",
      " 2   Country of Asylum Code  170119 non-null  object \n",
      " 3   Country of Origin Name  166000 non-null  object \n",
      " 4   Country of Asylum Name  170108 non-null  object \n",
      " 5   Population Type         170119 non-null  object \n",
      " 6   location                0 non-null       float64\n",
      " 7   urbanRural              0 non-null       float64\n",
      " 8   accommodationType       0 non-null       float64\n",
      " 9   Female 0-4              170119 non-null  object \n",
      " 10  Female 5-11             170119 non-null  object \n",
      " 11  Female 12-17            170119 non-null  object \n",
      " 12  Female 18-59            170119 non-null  object \n",
      " 13  Female 60 or more       170119 non-null  object \n",
      " 14  Female Unknown          170119 non-null  object \n",
      " 15  Female Total            170119 non-null  object \n",
      " 16  Male 0-4                170119 non-null  object \n",
      " 17  Male 5-11               170119 non-null  object \n",
      " 18  Male 12-17              170119 non-null  object \n",
      " 19  Male 18-59              170119 non-null  object \n",
      " 20  Male 60 or more         170119 non-null  object \n",
      " 21  Male Unknown            170119 non-null  object \n",
      " 22  Male Total              170119 non-null  object \n",
      " 23  Total                   170119 non-null  object \n",
      "dtypes: float64(3), object(21)\n",
      "memory usage: 31.1+ MB\n"
     ]
    }
   ],
   "source": [
    "data.info()"
   ]
  },
  {
   "cell_type": "code",
   "execution_count": null,
   "id": "79004d7e",
   "metadata": {},
   "outputs": [],
   "source": []
  }
 ],
 "metadata": {
  "kernelspec": {
   "display_name": "base",
   "language": "python",
   "name": "python3"
  },
  "language_info": {
   "codemirror_mode": {
    "name": "ipython",
    "version": 3
   },
   "file_extension": ".py",
   "mimetype": "text/x-python",
   "name": "python",
   "nbconvert_exporter": "python",
   "pygments_lexer": "ipython3",
   "version": "3.11.7"
  }
 },
 "nbformat": 4,
 "nbformat_minor": 5
}
